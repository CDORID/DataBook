{
 "cells": [
  {
   "cell_type": "markdown",
   "metadata": {},
   "source": [
    "# Regrouping knowledge in an automatized way for binary classification\n",
    "\n",
    "\n",
    "Starting point:\n",
    "X and Y are formatted\n",
    "\n"
   ]
  },
  {
   "cell_type": "code",
   "execution_count": 1,
   "metadata": {},
   "outputs": [],
   "source": [
    "import pandas as pd\n",
    "pd.set_option('display.max_columns', 500)\n",
    "pd.set_option('display.max_rows', 500)\n",
    "\n",
    "import os\n",
    "import matplotlib as plt\n",
    "\n",
    "import sklearn as sk\n",
    "import sklearn.metrics as metrics\n",
    "from sklearn.model_selection import train_test_split\n",
    "import numpy as np\n",
    "import xgboost as xgb \n",
    "\n",
    "import binclassfunc as fn\n",
    "from sklearn.linear_model import LogisticRegression\n",
    "\n",
    "import warnings\n",
    "warnings.filterwarnings(\"ignore\")"
   ]
  },
  {
   "cell_type": "code",
   "execution_count": 2,
   "metadata": {
    "scrolled": true
   },
   "outputs": [
    {
     "name": "stdout",
     "output_type": "stream",
     "text": [
      "<binclassfunc.ModelKPI object at 0x000001E8D867B940>\n",
      "0.6709710966296836\n"
     ]
    }
   ],
   "source": [
    "df = pd.read_excel('Data/titanic/df_prep.xlsx')\n",
    "\n",
    "### get the inner join of sales and controls\n",
    "\n",
    "\n",
    "X = df.drop(['SAMPLE ID','RESULT'], axis =1)\n",
    "Y = df['RESULT']\n",
    "hypo = X.columns\n",
    "target = Y.name\n",
    "\n",
    "\n",
    "X_train, X_test, Y_train, Y_test = train_test_split(X,Y,test_size=0.25, random_state=42)\n",
    "\n",
    "\n",
    "log_reg = LogisticRegression(random_state=0, class_weight = 'balanced')\n",
    "\n",
    "modelfit = log_reg.fit(X_train,Y_train)\n",
    "\n",
    "modelmetrics = fn.ModelKPI()\n",
    "print(modelmetrics)\n",
    "modelmetrics.compute(modelfit,X_test,Y_test)\n"
   ]
  },
  {
   "cell_type": "markdown",
   "metadata": {},
   "source": [
    "## Imbalance:\n",
    "#### Undersampling"
   ]
  },
  {
   "cell_type": "code",
   "execution_count": 3,
   "metadata": {
    "scrolled": true
   },
   "outputs": [
    {
     "name": "stdout",
     "output_type": "stream",
     "text": [
      "Previous split : \n",
      "0 :  25657 \n",
      "1 :  229\n",
      "New split : \n",
      "0 :  600 \n",
      "1 :  229\n"
     ]
    }
   ],
   "source": [
    "import resample\n",
    "\n",
    "X_trainu, Y_trainu = resample.random_undersample(X_train, Y_train, target, 1, 600)"
   ]
  },
  {
   "cell_type": "markdown",
   "metadata": {},
   "source": [
    "## List model "
   ]
  },
  {
   "cell_type": "code",
   "execution_count": 4,
   "metadata": {},
   "outputs": [],
   "source": [
    "## Models being tested \n",
    "from sklearn.linear_model import LogisticRegression\n",
    "from sklearn import svm\n",
    "from sklearn.tree import DecisionTreeClassifier\n",
    "from xgboost import XGBClassifier\n",
    "from sklearn.ensemble import AdaBoostClassifier\n",
    "from sklearn.ensemble import RandomForestClassifier\n",
    "from sklearn.discriminant_analysis import LinearDiscriminantAnalysis\n",
    "from sklearn.naive_bayes import MultinomialNB\n",
    "\n",
    "\n",
    "## log regs\n",
    "log_reg = LogisticRegression(random_state=0, class_weight = 'balanced')\n",
    "log_reg_elastic = LogisticRegression(class_weight = 'balanced',penalty= 'l1',solver = 'liblinear')\n",
    "log_reg_l1 = LogisticRegression(class_weight = 'balanced',penalty= 'elasticnet',solver= 'saga',l1_ratio=0.5) #saga solver works\n",
    "\n",
    "## svc\n",
    "##svc_lin = svm.SVC(class_weight = 'balanced',kernel = 'linear',probability=True)\n",
    "##svc_poly = svm.SVC(class_weight = 'balanced',kernel = 'poly',probability=True)\n",
    "#svc_rbf = svm.SVC(class_weight = 'balanced',kernel = 'rbf',probability=True)\n",
    "#svc_sigmoid = svm.SVC(class_weight = 'balanced',kernel = 'sigmoid',probability=True)\n",
    "\n",
    "## NB\n",
    "multi_NB = MultinomialNB()\n",
    "\n",
    "## Decision tree\n",
    "dec_tree = DecisionTreeClassifier(class_weight = 'balanced')\n",
    "xgboost = XGBClassifier(eval_metric ='auc'#scale_pos_weight = 5\n",
    "                       ) ###to be explained, its the ratio of imbalance\n",
    "\n",
    "## Ensemble \n",
    "adab = AdaBoostClassifier()\n",
    "random_forest = RandomForestClassifier(class_weight=\"balanced\")\n",
    "\n",
    "## LDA\n",
    "lda = LinearDiscriminantAnalysis() ##svd\n",
    "\n"
   ]
  },
  {
   "cell_type": "markdown",
   "metadata": {},
   "source": [
    "## Compute AUC"
   ]
  },
  {
   "cell_type": "code",
   "execution_count": 5,
   "metadata": {},
   "outputs": [],
   "source": [
    "from sklearn import metrics\n",
    "\n",
    "def compute_AUC(model,X_test,Y_test):\n",
    "\n",
    "    yroc = Y_test.as_matrix().reshape(Y_test.as_matrix().size,1)\n",
    "    predroc = model.predict_proba(X_test)[:,1]\n",
    "    AUC = metrics.roc_auc_score(yroc, predroc)\n",
    "    return AUC\n"
   ]
  },
  {
   "cell_type": "markdown",
   "metadata": {},
   "source": [
    "## Compute ratios from confusion matrix"
   ]
  },
  {
   "cell_type": "code",
   "execution_count": 6,
   "metadata": {
    "scrolled": true
   },
   "outputs": [
    {
     "name": "stdout",
     "output_type": "stream",
     "text": [
      "Test :  1-LogisticRegression\n",
      "0.6709710966296836\n",
      "Test :  2-LogisticRegression\n",
      "0.6633683472096586\n",
      "Test :  3-LogisticRegression\n",
      "0.542307408296258\n",
      "\n",
      " 3  Model Tested\n"
     ]
    }
   ],
   "source": [
    "\n",
    "models = [log_reg,\n",
    "          log_reg_elastic,\n",
    "          log_reg_l1,\n",
    "         # multi_NB,\n",
    "         # dec_tree,\n",
    "         # xgboost,\n",
    "         # adab, #not adapted\n",
    "         # random_forest,\n",
    "         # lda      \n",
    "]\n",
    "\n",
    "modelsmetrics = fn.MultiModelKPI()\n",
    "modelsmetrics.multi_compute(models,X_train,X_test,Y_train,Y_test)\n",
    "\n"
   ]
  },
  {
   "cell_type": "code",
   "execution_count": 7,
   "metadata": {},
   "outputs": [
    {
     "data": {
      "text/plain": [
       "[0.6709710966296836, 0.6633683472096586, 0.542307408296258]"
      ]
     },
     "execution_count": 7,
     "metadata": {},
     "output_type": "execute_result"
    }
   ],
   "source": [
    "modelsmetrics.AUC_list"
   ]
  },
  {
   "cell_type": "code",
   "execution_count": 8,
   "metadata": {},
   "outputs": [
    {
     "data": {
      "text/plain": [
       "<module 'binclassfunc' from 'C:\\\\Users\\\\user\\\\Progs\\\\DataBook\\\\binclassfunc.py'>"
      ]
     },
     "execution_count": 8,
     "metadata": {},
     "output_type": "execute_result"
    }
   ],
   "source": [
    "\n",
    "import importlib\n",
    "importlib.reload(fn)"
   ]
  },
  {
   "cell_type": "code",
   "execution_count": 10,
   "metadata": {},
   "outputs": [
    {
     "data": {
      "text/plain": [
       "<Figure size 1152x576 with 0 Axes>"
      ]
     },
     "metadata": {},
     "output_type": "display_data"
    },
    {
     "data": {
      "image/png": "[encoded data removed]",
      "text/plain": [
       "<Figure size 432x288 with 1 Axes>"
      ]
     },
     "metadata": {
      "needs_background": "light"
     },
     "output_type": "display_data"
    }
   ],
   "source": [
    "modelsmetrics.plot()"
   ]
  },
  {
   "cell_type": "code",
   "execution_count": null,
   "metadata": {},
   "outputs": [],
   "source": []
  }
 ],
 "metadata": {
  "kernelspec": {
   "display_name": "Python 3",
   "language": "python",
   "name": "python3"
  },
  "language_info": {
   "codemirror_mode": {
    "name": "ipython",
    "version": 3
   },
   "file_extension": ".py",
   "mimetype": "text/x-python",
   "name": "python",
   "nbconvert_exporter": "python",
   "pygments_lexer": "ipython3",
   "version": "3.7.3"
  }
 },
 "nbformat": 4,
 "nbformat_minor": 4
}
